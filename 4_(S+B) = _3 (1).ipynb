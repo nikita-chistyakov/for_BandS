{
 "cells": [
  {
   "cell_type": "code",
   "execution_count": null,
   "id": "c7b8bad1",
   "metadata": {},
   "outputs": [],
   "source": [
    "date=input(\"Please enter your engagement date:> \")\n",
    "\n",
    "Print=(\"\\n\")\n",
    "\n",
    "for row in range(6):  \n",
    "    for col in range(7):  \n",
    "        if (row==0 and col %3 !=0)or(row==1 and col %3==0) or(row-col==2) or(row+col==8):  \n",
    "            print(\"*\",end=\" \")  \n",
    "        else:  \n",
    "            print(end=\"  \")  \n",
    "    print()\n",
    "    \n",
    "print(\"Stephanie\",\"+\", \"Benjamin\",\"=\",\"<3\")"
   ]
  }
 ],
 "metadata": {
  "kernelspec": {
   "display_name": "Python 3",
   "language": "python",
   "name": "python3"
  },
  "language_info": {
   "codemirror_mode": {
    "name": "ipython",
    "version": 3
   },
   "file_extension": ".py",
   "mimetype": "text/x-python",
   "name": "python",
   "nbconvert_exporter": "python",
   "pygments_lexer": "ipython3",
   "version": "3.8.8"
  }
 },
 "nbformat": 4,
 "nbformat_minor": 5
}
